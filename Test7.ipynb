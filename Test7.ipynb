{
 "cells": [
  {
   "cell_type": "code",
   "execution_count": 7,
   "id": "c9e3caef",
   "metadata": {},
   "outputs": [
    {
     "name": "stdout",
     "output_type": "stream",
     "text": [
      "Prix de l\"article\n",
      "199\n",
      "Votre remise est de 10% \n",
      "Prix Solde :19.9\n"
     ]
    }
   ],
   "source": [
    "print('Prix de l\"article')\n",
    "x=input();x=int(x)\n",
    "if x>=500:\n",
    "    print('Votre remise est de 50% ')\n",
    "    print('Prix Solde :'+str((x*50)/100))\n",
    "elif (x>=200)and(x<500):\n",
    "    print('Votre remise est de 30% ')\n",
    "    print('Prix Solde :'+str((x*30)/100))\n",
    "elif x<200:\n",
    "    print('Votre remise est de 10% ')\n",
    "    print('Prix Solde :'+str((x*10)/100))\n",
    "    \n",
    "    \n"
   ]
  }
 ],
 "metadata": {
  "kernelspec": {
   "display_name": "Python 3 (ipykernel)",
   "language": "python",
   "name": "python3"
  },
  "language_info": {
   "codemirror_mode": {
    "name": "ipython",
    "version": 3
   },
   "file_extension": ".py",
   "mimetype": "text/x-python",
   "name": "python",
   "nbconvert_exporter": "python",
   "pygments_lexer": "ipython3",
   "version": "3.9.7"
  }
 },
 "nbformat": 4,
 "nbformat_minor": 5
}
