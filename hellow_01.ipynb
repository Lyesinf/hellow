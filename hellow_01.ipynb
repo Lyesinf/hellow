{
  "nbformat": 4,
  "nbformat_minor": 0,
  "metadata": {
    "colab": {
      "name": "hellow  01.ipynb",
      "provenance": []
    },
    "kernelspec": {
      "name": "python3",
      "display_name": "Python 3"
    },
    "language_info": {
      "name": "python"
    }
  },
  "cells": [
    {
      "cell_type": "code",
      "execution_count": 6,
      "metadata": {
        "id": "FcfhaloLiihI",
        "colab": {
          "base_uri": "https://localhost:8080/"
        },
        "outputId": "d3c4d2f0-7341-40fb-cb64-a46076de1457"
      },
      "outputs": [
        {
          "output_type": "stream",
          "name": "stdout",
          "text": [
            "Welcome to python world!Let's start coding\n"
          ]
        }
      ],
      "source": [
        "print(\"Welcome to python world!Let's start coding\")"
      ]
    }
  ]
}