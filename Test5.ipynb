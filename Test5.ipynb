{
 "cells": [
  {
   "cell_type": "code",
   "execution_count": 11,
   "id": "e66853b5",
   "metadata": {},
   "outputs": [
    {
     "name": "stdout",
     "output_type": "stream",
     "text": [
      "Calculer le factoriel d\"un ombre\n",
      "Donnez un nombre\n",
      "0\n",
      "Le factoriel de 0 est : 1\n"
     ]
    }
   ],
   "source": [
    "print('Calculer le factoriel d\"un ombre')\n",
    "print('Donnez un nombre')\n",
    "x=input();x=int(x);i=1;y=x\n",
    "if x==0:\n",
    "    print('Le factoriel de 0 est 1')\n",
    "else:    \n",
    "    while i<y:\n",
    "        x=x*(y-i)\n",
    "        i=i+1\n",
    "    print('Le factoriel de '+str(y)+' est : '+str(x))    "
   ]
  },
  {
   "cell_type": "code",
   "execution_count": null,
   "id": "6c4cd8dd",
   "metadata": {},
   "outputs": [],
   "source": []
  }
 ],
 "metadata": {
  "kernelspec": {
   "display_name": "Python 3 (ipykernel)",
   "language": "python",
   "name": "python3"
  },
  "language_info": {
   "codemirror_mode": {
    "name": "ipython",
    "version": 3
   },
   "file_extension": ".py",
   "mimetype": "text/x-python",
   "name": "python",
   "nbconvert_exporter": "python",
   "pygments_lexer": "ipython3",
   "version": "3.9.7"
  }
 },
 "nbformat": 4,
 "nbformat_minor": 5
}
