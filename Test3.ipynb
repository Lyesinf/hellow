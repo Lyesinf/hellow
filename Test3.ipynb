{
 "cells": [
  {
   "cell_type": "code",
   "execution_count": 4,
   "id": "6f82a8c6",
   "metadata": {},
   "outputs": [
    {
     "name": "stdout",
     "output_type": "stream",
     "text": [
      "Donnez un nomre entier : \n",
      "5.7\n",
      "Veuillez entrer un embre entier\n"
     ]
    }
   ],
   "source": [
    "print('Donnez un nomre entier : ')\n",
    "x=input()\n",
    "y=float(x)%1\n",
    "if y==0.0:\n",
    "    if int(x)%2==0:\n",
    "        print('Le nombre que vous avez choisis est PAIRE')\n",
    "    else:\n",
    "        print('Le nombre que vous avez choisis est IMPAIRE') \n",
    "else:\n",
    "    print('Veuillez entrer un embre entier')"
   ]
  }
 ],
 "metadata": {
  "kernelspec": {
   "display_name": "Python 3 (ipykernel)",
   "language": "python",
   "name": "python3"
  },
  "language_info": {
   "codemirror_mode": {
    "name": "ipython",
    "version": 3
   },
   "file_extension": ".py",
   "mimetype": "text/x-python",
   "name": "python",
   "nbconvert_exporter": "python",
   "pygments_lexer": "ipython3",
   "version": "3.9.7"
  }
 },
 "nbformat": 4,
 "nbformat_minor": 5
}
