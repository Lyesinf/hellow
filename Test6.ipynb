{
 "cells": [
  {
   "cell_type": "code",
   "execution_count": 15,
   "id": "b403a5ce",
   "metadata": {
    "scrolled": false
   },
   "outputs": [
    {
     "name": "stdout",
     "output_type": "stream",
     "text": [
      "Donnez ine chaine de carractere\n",
      "BONJOURS\n",
      "BNOR"
     ]
    }
   ],
   "source": [
    "print('Donnez ine chaine de carractere')\n",
    "x=input()\n",
    "i=len(x);y=0\n",
    "while y in range(0,i):\n",
    "    if y%2==0:\n",
    "        print(x[y],end='')\n",
    "    y=y+1\n",
    "   # print(x[y],end='')"
   ]
  },
  {
   "cell_type": "code",
   "execution_count": null,
   "id": "f6e726d1",
   "metadata": {},
   "outputs": [],
   "source": []
  }
 ],
 "metadata": {
  "kernelspec": {
   "display_name": "Python 3 (ipykernel)",
   "language": "python",
   "name": "python3"
  },
  "language_info": {
   "codemirror_mode": {
    "name": "ipython",
    "version": 3
   },
   "file_extension": ".py",
   "mimetype": "text/x-python",
   "name": "python",
   "nbconvert_exporter": "python",
   "pygments_lexer": "ipython3",
   "version": "3.9.7"
  }
 },
 "nbformat": 4,
 "nbformat_minor": 5
}
