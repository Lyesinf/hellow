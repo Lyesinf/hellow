{
 "cells": [
  {
   "cell_type": "code",
   "execution_count": 1,
   "id": "f08749df",
   "metadata": {},
   "outputs": [
    {
     "name": "stdout",
     "output_type": "stream",
     "text": [
      "Donnez Votre Nom: \n",
      "\n",
      "Donnez Votre Prenom: \n",
      "\n",
      " \n"
     ]
    }
   ],
   "source": [
    "print('Donnez Votre Nom: ')\n",
    "x=input()\n",
    "print('Donnez Votre Prenom: ')\n",
    "y=input()\n",
    "print(y+' '+x)"
   ]
  }
 ],
 "metadata": {
  "kernelspec": {
   "display_name": "Python 3 (ipykernel)",
   "language": "python",
   "name": "python3"
  },
  "language_info": {
   "codemirror_mode": {
    "name": "ipython",
    "version": 3
   },
   "file_extension": ".py",
   "mimetype": "text/x-python",
   "name": "python",
   "nbconvert_exporter": "python",
   "pygments_lexer": "ipython3",
   "version": "3.9.7"
  }
 },
 "nbformat": 4,
 "nbformat_minor": 5
}
